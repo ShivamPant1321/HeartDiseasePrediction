{
  "cells": [
    {
      "cell_type": "markdown",
      "metadata": {
        "id": "view-in-github",
        "colab_type": "text"
      },
      "source": [
        "<a href=\"https://colab.research.google.com/github/ShivamPant1321/HeartDiseasePrediction/blob/main/heartDiseasePrediction.ipynb\" target=\"_parent\"><img src=\"https://colab.research.google.com/assets/colab-badge.svg\" alt=\"Open In Colab\"/></a>"
      ]
    },
    {
      "cell_type": "code",
      "execution_count": null,
      "metadata": {
        "id": "VrC00SsSSSbF"
      },
      "outputs": [],
      "source": [
        "import numpy as np\n",
        "import pandas as pd\n",
        "from sklearn.model_selection import train_test_split\n",
        "from sklearn.linear_model import LogisticRegression\n",
        "from sklearn.metrics import accuracy_score\n",
        "import matplotlib\n",
        "import matplotlib.pyplot as plt"
      ]
    },
    {
      "cell_type": "markdown",
      "metadata": {
        "id": "5qq7yExGUmqP"
      },
      "source": [
        "Data collection and processing"
      ]
    },
    {
      "cell_type": "code",
      "execution_count": null,
      "metadata": {
        "id": "QtO0RN-OUshZ"
      },
      "outputs": [],
      "source": [
        "#loading ths csv data to pandas dataframe\n",
        "heart_data = pd.read_csv('/content/heart.csv')"
      ]
    },
    {
      "cell_type": "code",
      "execution_count": null,
      "metadata": {
        "id": "pz9cfsNwU7fO"
      },
      "outputs": [],
      "source": [
        "#print first 5 rows of the dataset\n",
        "heart_data.head()"
      ]
    },
    {
      "cell_type": "code",
      "execution_count": null,
      "metadata": {
        "id": "ukVq8e6yVMtA"
      },
      "outputs": [],
      "source": [
        "#print the last 5\n",
        "heart_data.tail()"
      ]
    },
    {
      "cell_type": "code",
      "execution_count": null,
      "metadata": {
        "id": "lKdaVcevVU6F"
      },
      "outputs": [],
      "source": [
        "#no. of rows and colomns\n",
        "heart_data.shape"
      ]
    },
    {
      "cell_type": "code",
      "execution_count": null,
      "metadata": {
        "id": "flZRSZCFWRT3"
      },
      "outputs": [],
      "source": [
        "heart_data.info()"
      ]
    },
    {
      "cell_type": "code",
      "execution_count": null,
      "metadata": {
        "id": "pB3T4MnXWb1B"
      },
      "outputs": [],
      "source": [
        "heart_data.isnull().sum()"
      ]
    },
    {
      "cell_type": "code",
      "execution_count": null,
      "metadata": {
        "id": "uytb96nXv_j5"
      },
      "outputs": [],
      "source": [
        "# transform data to numeric to enable further analysis\n",
        "heart_data = heart_data.apply(pd.to_numeric)\n",
        "heart_data.dtypes"
      ]
    },
    {
      "cell_type": "code",
      "execution_count": null,
      "metadata": {
        "id": "6vCeE1u-Wk77"
      },
      "outputs": [],
      "source": [
        "# statistical\n",
        "heart_data.describe()"
      ]
    },
    {
      "cell_type": "code",
      "execution_count": null,
      "metadata": {
        "id": "QyRJ8kE0rw0J"
      },
      "outputs": [],
      "source": [
        "# plot histograms for each variable\n",
        "heart_data.hist(figsize = (12, 12))\n",
        "plt.show()"
      ]
    },
    {
      "cell_type": "code",
      "execution_count": null,
      "metadata": {
        "id": "v0CtTkFisZaA"
      },
      "outputs": [],
      "source": [
        "pd.crosstab(heart_data.age,heart_data.target).plot(kind=\"bar\",figsize=(20,6))\n",
        "plt.title('Heart Disease Frequency for Ages')\n",
        "plt.xlabel('Age')\n",
        "plt.ylabel('Frequency')\n",
        "plt.show()"
      ]
    },
    {
      "cell_type": "code",
      "execution_count": null,
      "metadata": {
        "id": "RRD3YSgyWw47"
      },
      "outputs": [],
      "source": [
        "#checking the distribution\n",
        "heart_data['target'].value_counts()"
      ]
    },
    {
      "cell_type": "markdown",
      "metadata": {
        "id": "vcqkSZkNZe4t"
      },
      "source": [
        "1-->Have disease\n",
        "0--> Dont"
      ]
    },
    {
      "cell_type": "code",
      "execution_count": null,
      "metadata": {
        "id": "ZwL8SOB6ZVGr"
      },
      "outputs": [],
      "source": [
        "X = heart_data.drop(columns='target', axis=1)\n",
        "Y = heart_data['target']"
      ]
    },
    {
      "cell_type": "code",
      "execution_count": null,
      "metadata": {
        "id": "CD_f7NHQZ9gl"
      },
      "outputs": [],
      "source": [
        "print(X)"
      ]
    },
    {
      "cell_type": "code",
      "execution_count": null,
      "metadata": {
        "id": "gj-vHE_9Z_Dx"
      },
      "outputs": [],
      "source": [
        "print(Y)"
      ]
    },
    {
      "cell_type": "markdown",
      "metadata": {
        "id": "tbyBHTn8aGB6"
      },
      "source": [
        "Splitting my data into train data and test"
      ]
    },
    {
      "cell_type": "code",
      "execution_count": null,
      "metadata": {
        "id": "lbStrcweaCdN"
      },
      "outputs": [],
      "source": [
        "X_train, X_test, Y_train, Y_test = train_test_split(X, Y, test_size=0.2, stratify = Y, random_state=2)"
      ]
    },
    {
      "cell_type": "code",
      "execution_count": null,
      "metadata": {
        "id": "PGp1VAI7anIC"
      },
      "outputs": [],
      "source": [
        "print(X.shape , X_train.shape, X_test.shape)"
      ]
    },
    {
      "cell_type": "markdown",
      "metadata": {
        "id": "3gM7gL7ma3wq"
      },
      "source": [
        "Model\n",
        "\n",
        "Logestic regression"
      ]
    },
    {
      "cell_type": "code",
      "execution_count": null,
      "metadata": {
        "id": "2SirvmlgazpD"
      },
      "outputs": [],
      "source": [
        "model = LogisticRegression()"
      ]
    },
    {
      "cell_type": "code",
      "execution_count": null,
      "metadata": {
        "id": "Pm5p_JPHa-iS"
      },
      "outputs": [],
      "source": [
        "#training the LR model with traing data\n",
        "model.fit(X_train, Y_train)"
      ]
    },
    {
      "cell_type": "markdown",
      "metadata": {
        "id": "P4-bqLBfbxYa"
      },
      "source": [
        "Model evaluation\n",
        "\n",
        "Accuracy score"
      ]
    },
    {
      "cell_type": "code",
      "execution_count": null,
      "metadata": {
        "id": "_PlOxGd-bM_Z"
      },
      "outputs": [],
      "source": [
        "#accuracy on training data\n",
        "X_train_prediction = model.predict(X_train)\n",
        "training_data_accuracy = accuracy_score(X_train_prediction, Y_train)"
      ]
    },
    {
      "cell_type": "code",
      "execution_count": null,
      "metadata": {
        "id": "T9xioVyKcwXv"
      },
      "outputs": [],
      "source": [
        "print('Accuracy on training data: ', training_data_accuracy)"
      ]
    },
    {
      "cell_type": "code",
      "execution_count": null,
      "metadata": {
        "id": "rZ2WCec4c-as"
      },
      "outputs": [],
      "source": [
        "#accuracy on training data\n",
        "X_test_prediction = model.predict(X_test)\n",
        "testing_data_accuracy = accuracy_score(X_test_prediction, Y_test)"
      ]
    },
    {
      "cell_type": "code",
      "execution_count": null,
      "metadata": {
        "id": "gczFCcrFdQs2"
      },
      "outputs": [],
      "source": [
        "print('Accuracy on testing data: ', testing_data_accuracy)"
      ]
    },
    {
      "cell_type": "markdown",
      "metadata": {
        "id": "6G02K6TBdeHl"
      },
      "source": [
        "Predicting sys."
      ]
    },
    {
      "cell_type": "code",
      "execution_count": null,
      "metadata": {
        "id": "in9XUNmgdU9m",
        "colab": {
          "base_uri": "https://localhost:8080/"
        },
        "outputId": "4b28bdf5-81f5-4103-9d73-1d564332dbd6"
      },
      "outputs": [
        {
          "output_type": "stream",
          "name": "stdout",
          "text": [
            "[0]\n",
            "The person does not have heart disease\n"
          ]
        },
        {
          "output_type": "stream",
          "name": "stderr",
          "text": [
            "/usr/local/lib/python3.10/dist-packages/sklearn/base.py:439: UserWarning: X does not have valid feature names, but LogisticRegression was fitted with feature names\n",
            "  warnings.warn(\n"
          ]
        }
      ],
      "source": [
        "input_data = (45,1,2,123,221,0,0,145,0,0.4,1,1,3)\n",
        "\n",
        "## changing input to numpy array\n",
        "input_data_as_numpy_array = np.asarray(input_data)\n",
        "\n",
        "#reshape the numpy array as we are predicting for only one instance\n",
        "input_data_reshaped = input_data_as_numpy_array.reshape(1,-1)\n",
        "\n",
        "prediction = model.predict(input_data_reshaped)\n",
        "print(prediction)\n",
        "\n",
        "if(prediction[0]== 0):\n",
        "  print(\"The person does not have heart disease\")\n",
        "else:\n",
        "  print(\"The person has heart disease\")"
      ]
    },
    {
      "cell_type": "code",
      "execution_count": null,
      "metadata": {
        "id": "6IqNFY9oekAH"
      },
      "outputs": [],
      "source": []
    }
  ],
  "metadata": {
    "colab": {
      "provenance": [],
      "authorship_tag": "ABX9TyNEieRVfvnIvomnxnneiUUe",
      "include_colab_link": true
    },
    "kernelspec": {
      "display_name": "Python 3",
      "name": "python3"
    },
    "language_info": {
      "name": "python"
    }
  },
  "nbformat": 4,
  "nbformat_minor": 0
}